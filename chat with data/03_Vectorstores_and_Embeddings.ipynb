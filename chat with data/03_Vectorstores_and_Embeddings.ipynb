{
 "cells": [
  {
   "cell_type": "markdown",
   "id": "9d6efcf7-d30e-45a2-b33f-428ac7d85354",
   "metadata": {},
   "source": [
    "# Vectorstores and Embeddings"
   ]
  },
  {
   "cell_type": "code",
   "execution_count": 1,
   "id": "f982d112-6e20-47fc-9b15-2569a6b3ae43",
   "metadata": {
    "tags": []
   },
   "outputs": [],
   "source": [
    "import os\n",
    "import openai\n",
    "import sys\n",
    "sys.path.append('../..')\n",
    "\n",
    "from dotenv import load_dotenv, find_dotenv\n",
    "_ = load_dotenv(find_dotenv()) # read local .env file\n",
    "\n",
    "openai.api_key  = os.environ['OPENAI_API_KEY']"
   ]
  },
  {
   "cell_type": "code",
   "execution_count": 2,
   "id": "c20e2936-2a6d-406f-bca7-656b2763c361",
   "metadata": {
    "tags": []
   },
   "outputs": [],
   "source": [
    "from langchain.document_loaders import PyPDFLoader\n",
    "\n",
    "# Load PDF\n",
    "loaders = [\n",
    "    PyPDFLoader(\"attachment/Job_Description.pdf\"),\n",
    "    PyPDFLoader(\"attachment/Resume.pdf\")\n",
    "    ]\n",
    "docs = []\n",
    "for loader in loaders:\n",
    "    docs.extend(loader.load())"
   ]
  },
  {
   "cell_type": "code",
   "execution_count": 3,
   "id": "843acccd-b85a-4bfa-990f-756adbfcd4ec",
   "metadata": {
    "tags": []
   },
   "outputs": [
    {
     "data": {
      "text/plain": [
       "5"
      ]
     },
     "execution_count": 3,
     "metadata": {},
     "output_type": "execute_result"
    }
   ],
   "source": [
    "# Split\n",
    "from langchain.text_splitter import RecursiveCharacterTextSplitter\n",
    "text_splitter = RecursiveCharacterTextSplitter(\n",
    "    chunk_size = 1500,\n",
    "    chunk_overlap = 150\n",
    ")\n",
    "\n",
    "splits = text_splitter.split_documents(docs)\n",
    "\n",
    "len(splits)"
   ]
  },
  {
   "cell_type": "markdown",
   "id": "1d33473a-f7c6-4392-aa45-4526141a6f20",
   "metadata": {},
   "source": [
    "## Embeddings"
   ]
  },
  {
   "cell_type": "code",
   "execution_count": 4,
   "id": "4fb58b91-71dd-4409-b658-a46b3f15efb1",
   "metadata": {
    "tags": []
   },
   "outputs": [],
   "source": [
    "from langchain.embeddings.openai import OpenAIEmbeddings\n",
    "embedding = OpenAIEmbeddings()\n",
    "\n",
    "sentence1 = \"i like dogs\"\n",
    "sentence2 = \"i like canines\"\n",
    "sentence3 = \"the weather is ugly outside\"\n",
    "\n",
    "embedding1 = embedding.embed_query(sentence1)\n",
    "embedding2 = embedding.embed_query(sentence2)\n",
    "embedding3 = embedding.embed_query(sentence3)"
   ]
  },
  {
   "cell_type": "code",
   "execution_count": 5,
   "id": "47254af3-c9d3-46da-9dd8-111f30f077a8",
   "metadata": {
    "tags": []
   },
   "outputs": [],
   "source": [
    "import numpy as np"
   ]
  },
  {
   "cell_type": "code",
   "execution_count": 6,
   "id": "bfb0e095-6a30-41f0-b142-043ad741734d",
   "metadata": {
    "tags": []
   },
   "outputs": [
    {
     "data": {
      "text/plain": [
       "0.9631853877103518"
      ]
     },
     "execution_count": 6,
     "metadata": {},
     "output_type": "execute_result"
    }
   ],
   "source": [
    "np.dot(embedding1, embedding2)"
   ]
  },
  {
   "cell_type": "code",
   "execution_count": 7,
   "id": "4a65c81a-250d-4ba3-ab28-76e0f022c535",
   "metadata": {
    "tags": []
   },
   "outputs": [
    {
     "data": {
      "text/plain": [
       "0.7709997651294672"
      ]
     },
     "execution_count": 7,
     "metadata": {},
     "output_type": "execute_result"
    }
   ],
   "source": [
    "np.dot(embedding1, embedding3)"
   ]
  },
  {
   "cell_type": "code",
   "execution_count": 8,
   "id": "3b7953b1-8575-40f3-a324-c3ea95b070e9",
   "metadata": {
    "tags": []
   },
   "outputs": [
    {
     "data": {
      "text/plain": [
       "0.7596334120325523"
      ]
     },
     "execution_count": 8,
     "metadata": {},
     "output_type": "execute_result"
    }
   ],
   "source": [
    "np.dot(embedding2, embedding3)"
   ]
  },
  {
   "cell_type": "markdown",
   "id": "697ed2ba-a273-4b8a-ad97-d1939188d7f1",
   "metadata": {},
   "source": [
    "## Vectorstores"
   ]
  },
  {
   "cell_type": "code",
   "execution_count": null,
   "id": "1fdf633d-431c-45c3-af8e-05dae998fc3c",
   "metadata": {},
   "outputs": [],
   "source": [
    "# ! pip install chromadb"
   ]
  },
  {
   "cell_type": "code",
   "execution_count": 28,
   "id": "83556ee0-cc7b-4fe8-ae34-7c710a55e3f3",
   "metadata": {
    "tags": []
   },
   "outputs": [
    {
     "name": "stdout",
     "output_type": "stream",
     "text": [
      "/Users/siva/.zshenv:1: command not found: Export\n"
     ]
    }
   ],
   "source": [
    "!rm -rf ./chroma  # remove old database files if any"
   ]
  },
  {
   "cell_type": "code",
   "execution_count": 29,
   "id": "4f71fda7-e4e9-439f-ba1a-1661bc9fb96a",
   "metadata": {
    "tags": []
   },
   "outputs": [
    {
     "name": "stdout",
     "output_type": "stream",
     "text": [
      "35\n"
     ]
    }
   ],
   "source": [
    "from langchain.vectorstores import Chroma\n",
    "\n",
    "#persist_directory = 'chroma/'\n",
    "\n",
    "# !rm -rf ./docs/chroma  # remove old database files if any\n",
    "\n",
    "vectordb = Chroma.from_documents(\n",
    "    documents=splits,\n",
    "    embedding=embedding,\n",
    "    #persist_directory=persist_directory\n",
    ")\n",
    "\n",
    "print(vectordb._collection.count())"
   ]
  },
  {
   "cell_type": "code",
   "execution_count": 21,
   "id": "52c055f2-071d-4cb3-86f0-4163ba7de87c",
   "metadata": {
    "tags": []
   },
   "outputs": [
    {
     "data": {
      "text/plain": [
       "3"
      ]
     },
     "execution_count": 21,
     "metadata": {},
     "output_type": "execute_result"
    }
   ],
   "source": [
    "### Similarity Search\n",
    "question = \"is there an email i can ask for help\"\n",
    "\n",
    "docs = vectordb.similarity_search(question,k=3) # k implies number of docs to return\n",
    "\n",
    "len(docs)\n",
    "\n"
   ]
  },
  {
   "cell_type": "code",
   "execution_count": 22,
   "id": "bdfd2bd6-6bd7-4175-90a6-da14e8894012",
   "metadata": {
    "tags": []
   },
   "outputs": [
    {
     "data": {
      "text/plain": [
       "'• \\n \\n   Sivakumarraju.skr@gmail.com  \\n   +91 81210 36916  \\n    Hyderabad,  IN. Siva Kumar Raju Paidi  \\nMachine Learning Engineer  \\nMachine Learning/Deep Learning \\nEngineer seeking to solve \\nchallenging business problems. \\nExperience  with data wrangling, \\nweb scrapping and data \\nexploration using Python and SQL . Professional Experience  \\nQuality Specialist            Jun ’19 – Nov ‘21  \\nAmazon  | Hyderabad  \\nWeb Scrapping         \\n• Developed a n automated web scraping tool using  Python \\nand Beautiful Soup to find missing changesets in OSM and \\nsaved 8.3 manhours/per week .  \\nData Visualization  \\n• Developed an Excel based dashboard to project productivity \\nmetrics to team.  \\nJavaScript  \\n• Develope d chrome extension s based on HTML and \\nJavaScript and automated addition of mandatory comment \\nto edits made in OSM and saved 24 manhours/week and \\nimproved quality by reducing 21% mistakes/week for the \\nteam . \\nAwards : \\n• Hidden Einstein Award - R&R_ Q2_2020 \\n• Expert Accuracy  - R&R_ Q4_2020 \\n• Most Innovative Idea - R&R_ Q1_2021 \\n• One for all – All for one - R&R_ Q1_2021 \\n• Marvellous Multitasker - R&R_ Q2_2021 \\n \\nAssistant Professor            Dec’16 -Nov’18  \\nGMR Institute of technology |Rajam  \\n \\nAssistant Professor            Sept’15 - Nov’16  \\nPydah College of Engineering | Visakhapatanam  Certifications  \\nTensorFlow Developer Certificate \\nIssued by TensorFlow - Feb’22  \\nDeepLearning.AI TensorFlow \\nDeveloper Professional Certificate  \\nIssued by Coursera – Feb’22'"
      ]
     },
     "execution_count": 22,
     "metadata": {},
     "output_type": "execute_result"
    }
   ],
   "source": [
    "docs[0].page_content"
   ]
  },
  {
   "cell_type": "code",
   "execution_count": null,
   "id": "9063fafc-b025-4f7a-8c69-105661d19959",
   "metadata": {},
   "outputs": [],
   "source": [
    "# Let's save this so we can use it later!\n",
    "\n",
    "vectordb.persist() #to save vector db\n"
   ]
  },
  {
   "cell_type": "code",
   "execution_count": null,
   "id": "ac8acdc5-34fa-44a0-b5ba-082230a5f856",
   "metadata": {},
   "outputs": [],
   "source": [
    "\n",
    "\n",
    "\n",
    "\n",
    "\n",
    "\n",
    "\n",
    "\n",
    "\n",
    "## Failure modes\n",
    "# This seems great, and basic similarity search will get you 80% of the way there very easily. \n",
    "\n",
    "# But there are some failure modes that can creep up. \n",
    "\n",
    "# Here are some edge cases that can arise - we'll fix them in the next class.\n",
    "\n",
    "question = \"what did they say about matlab?\"\n",
    "\n",
    "docs = vectordb.similarity_search(question,k=5)\n",
    "\n",
    "# Notice that we're getting duplicate chunks (because of the duplicate `MachineLearning-Lecture01.pdf` in the index).\n",
    "\n",
    "# Semantic search fetches all similar documents, but does not enforce diversity.\n",
    "\n",
    "# `docs[0]` and `docs[1]` are indentical.\n",
    "\n",
    "print(docs[0])\n",
    "\n",
    "print(docs[1])\n",
    "\n",
    "# We can see a new failure mode.\n",
    "\n",
    "# The question below asks a question about the third lecture, but includes results from other lectures as well.\n",
    "\n",
    "question = \"what did they say about regression in the third lecture?\"\n",
    "\n",
    "docs = vectordb.similarity_search(question,k=5)\n",
    "\n",
    "for doc in docs:\n",
    "    print(doc.metadata)\n",
    "\n",
    "print(docs[4].page_content)\n",
    "\n",
    "# Approaches discussed in the next lecture can be used to address both!\n",
    "\n"
   ]
  },
  {
   "cell_type": "markdown",
   "id": "951e3e61-8192-48cf-bcf0-f5ddc4587029",
   "metadata": {
    "tags": []
   },
   "source": [
    "## Chroma DB"
   ]
  },
  {
   "cell_type": "code",
   "execution_count": 31,
   "id": "a7d2403a-1dda-49df-8617-355172f94d4e",
   "metadata": {
    "tags": []
   },
   "outputs": [],
   "source": [
    "#! pip install chromadb"
   ]
  },
  {
   "cell_type": "code",
   "execution_count": 41,
   "id": "6ab77569-bfc7-4ef2-a4c2-eff071f36b50",
   "metadata": {
    "tags": []
   },
   "outputs": [],
   "source": [
    "import chromadb\n",
    "client = chromadb.PersistentClient(path=\"chroma_007\")"
   ]
  },
  {
   "cell_type": "code",
   "execution_count": 42,
   "id": "7858cc42-3aec-4b9e-b865-c80207b1e090",
   "metadata": {
    "tags": []
   },
   "outputs": [
    {
     "data": {
      "text/plain": [
       "1694436852799910000"
      ]
     },
     "execution_count": 42,
     "metadata": {},
     "output_type": "execute_result"
    }
   ],
   "source": [
    "client.heartbeat()"
   ]
  },
  {
   "cell_type": "code",
   "execution_count": 54,
   "id": "442c78ec-1ca0-4e72-997a-98fdbd7354db",
   "metadata": {
    "tags": []
   },
   "outputs": [],
   "source": [
    "client.delete_collection(name=\"my_collection\")"
   ]
  },
  {
   "cell_type": "code",
   "execution_count": 55,
   "id": "cce5149a-eb51-4b85-adb5-83077905740b",
   "metadata": {
    "tags": []
   },
   "outputs": [],
   "source": [
    "collection = client.create_collection(name=\"my_collection\")"
   ]
  },
  {
   "cell_type": "code",
   "execution_count": 56,
   "id": "975ee185-8e05-496b-be8e-5b1fd5d34949",
   "metadata": {
    "tags": []
   },
   "outputs": [
    {
     "data": {
      "text/plain": [
       "0"
      ]
     },
     "execution_count": 56,
     "metadata": {},
     "output_type": "execute_result"
    }
   ],
   "source": [
    "collection.count()"
   ]
  },
  {
   "cell_type": "code",
   "execution_count": 57,
   "id": "6914a3bc-e948-40cc-bfdc-f17252cf0d48",
   "metadata": {
    "tags": []
   },
   "outputs": [
    {
     "ename": "TypeError",
     "evalue": "Collection.add() missing 1 required positional argument: 'ids'",
     "output_type": "error",
     "traceback": [
      "\u001b[0;31m---------------------------------------------------------------------------\u001b[0m",
      "\u001b[0;31mTypeError\u001b[0m                                 Traceback (most recent call last)",
      "Cell \u001b[0;32mIn[57], line 1\u001b[0m\n\u001b[0;32m----> 1\u001b[0m \u001b[43mcollection\u001b[49m\u001b[38;5;241;43m.\u001b[39;49m\u001b[43madd\u001b[49m\u001b[43m(\u001b[49m\n\u001b[1;32m      2\u001b[0m \u001b[43m    \u001b[49m\u001b[43mdocuments\u001b[49m\u001b[38;5;241;43m=\u001b[39;49m\u001b[43msplits\u001b[49m\n\u001b[1;32m      3\u001b[0m \u001b[43m    \u001b[49m\u001b[43m)\u001b[49m\n",
      "\u001b[0;31mTypeError\u001b[0m: Collection.add() missing 1 required positional argument: 'ids'"
     ]
    }
   ],
   "source": [
    "collection.add(\n",
    "    documents=splits\n",
    "    )"
   ]
  },
  {
   "cell_type": "code",
   "execution_count": null,
   "id": "1340b424-fc65-4987-bc66-76e67a7093a8",
   "metadata": {},
   "outputs": [],
   "source": []
  },
  {
   "cell_type": "code",
   "execution_count": 12,
   "id": "56ebe36a-6680-4aab-a0f8-8f514bc2d5b8",
   "metadata": {
    "tags": []
   },
   "outputs": [],
   "source": []
  },
  {
   "cell_type": "code",
   "execution_count": 13,
   "id": "cbb3490d-496c-4af8-9eb8-9047bcf91718",
   "metadata": {
    "tags": []
   },
   "outputs": [
    {
     "ename": "TypeError",
     "evalue": "Collection.add() got an unexpected keyword argument 'embedding'",
     "output_type": "error",
     "traceback": [
      "\u001b[0;31m---------------------------------------------------------------------------\u001b[0m",
      "\u001b[0;31mTypeError\u001b[0m                                 Traceback (most recent call last)",
      "Cell \u001b[0;32mIn[13], line 1\u001b[0m\n\u001b[0;32m----> 1\u001b[0m \u001b[43mcollection\u001b[49m\u001b[38;5;241;43m.\u001b[39;49m\u001b[43madd\u001b[49m\u001b[43m(\u001b[49m\n\u001b[1;32m      2\u001b[0m \u001b[43m    \u001b[49m\u001b[43mdocuments\u001b[49m\u001b[38;5;241;43m=\u001b[39;49m\u001b[43msplits\u001b[49m\u001b[43m,\u001b[49m\n\u001b[1;32m      3\u001b[0m \u001b[43m    \u001b[49m\u001b[43membedding\u001b[49m\u001b[38;5;241;43m=\u001b[39;49m\u001b[43membedding\u001b[49m\u001b[43m,\u001b[49m\n\u001b[1;32m      4\u001b[0m \u001b[43m    \u001b[49m\u001b[43mpersist_directory\u001b[49m\u001b[38;5;241;43m=\u001b[39;49m\u001b[43mpersist_directory\u001b[49m\n\u001b[1;32m      5\u001b[0m \u001b[43m    \u001b[49m\u001b[43m)\u001b[49m\n",
      "\u001b[0;31mTypeError\u001b[0m: Collection.add() got an unexpected keyword argument 'embedding'"
     ]
    }
   ],
   "source": [
    "collection.add(\n",
    "    documents=splits,\n",
    "    embeddings=embedding,\n",
    "    )"
   ]
  },
  {
   "cell_type": "code",
   "execution_count": 52,
   "id": "08e4f927-e285-484f-8a90-5206b56a2474",
   "metadata": {
    "tags": []
   },
   "outputs": [
    {
     "ename": "AttributeError",
     "evalue": "'SegmentAPI' object has no attribute 'get'",
     "output_type": "error",
     "traceback": [
      "\u001b[0;31m---------------------------------------------------------------------------\u001b[0m",
      "\u001b[0;31mAttributeError\u001b[0m                            Traceback (most recent call last)",
      "Cell \u001b[0;32mIn[52], line 1\u001b[0m\n\u001b[0;32m----> 1\u001b[0m \u001b[43mchroma_client\u001b[49m\u001b[38;5;241;43m.\u001b[39;49m\u001b[43mget\u001b[49m()\n",
      "\u001b[0;31mAttributeError\u001b[0m: 'SegmentAPI' object has no attribute 'get'"
     ]
    }
   ],
   "source": [
    "chroma_client.get()"
   ]
  },
  {
   "cell_type": "code",
   "execution_count": 53,
   "id": "c633bc2f-0616-4320-b06c-9cb3075d0552",
   "metadata": {
    "tags": []
   },
   "outputs": [
    {
     "ename": "AttributeError",
     "evalue": "'SegmentAPI' object has no attribute 'get'",
     "output_type": "error",
     "traceback": [
      "\u001b[0;31m---------------------------------------------------------------------------\u001b[0m",
      "\u001b[0;31mAttributeError\u001b[0m                            Traceback (most recent call last)",
      "Cell \u001b[0;32mIn[53], line 1\u001b[0m\n\u001b[0;32m----> 1\u001b[0m \u001b[43mclient\u001b[49m\u001b[38;5;241;43m.\u001b[39;49m\u001b[43mget\u001b[49m()\n",
      "\u001b[0;31mAttributeError\u001b[0m: 'SegmentAPI' object has no attribute 'get'"
     ]
    }
   ],
   "source": [
    "client.get()"
   ]
  },
  {
   "cell_type": "code",
   "execution_count": null,
   "id": "d48f7ad8-3ae3-4de6-99ba-4b97be113b27",
   "metadata": {},
   "outputs": [],
   "source": []
  }
 ],
 "metadata": {
  "kernelspec": {
   "display_name": "genai_env",
   "language": "python",
   "name": "genai_env"
  },
  "language_info": {
   "codemirror_mode": {
    "name": "ipython",
    "version": 3
   },
   "file_extension": ".py",
   "mimetype": "text/x-python",
   "name": "python",
   "nbconvert_exporter": "python",
   "pygments_lexer": "ipython3",
   "version": "3.11.1"
  }
 },
 "nbformat": 4,
 "nbformat_minor": 5
}
